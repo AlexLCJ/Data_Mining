{
 "cells": [
  {
   "metadata": {},
   "cell_type": "markdown",
   "source": "# 2.4数据对象关系的计算方法",
   "id": "45e76c5d87ab5278"
  },
  {
   "metadata": {
    "ExecuteTime": {
     "end_time": "2024-09-19T11:42:34.222985Z",
     "start_time": "2024-09-19T11:42:34.213651Z"
    }
   },
   "cell_type": "code",
   "source": [
    "\"\"\"\n",
    "    Author: <李昌峻>\n",
    "    Date:    2024/9/19\n",
    "    Version: 1.0\n",
    "    Encoding: UTF-8\n",
    "    Description: 数据挖掘课程2.4代码实现\n",
    "    Email: changjunli049@gmail.com\n",
    "\"\"\""
   ],
   "id": "1a7f3abb46e00f32",
   "outputs": [
    {
     "data": {
      "text/plain": [
       "'\\n    Author: <李昌峻>\\n    Date:    2024/9/19\\n    Version: 1.0\\n    Encoding: UTF-8\\n    Description: 数据挖掘课程2.4代码实现\\n    Email: changjunli049@gmail.com\\n'"
      ]
     },
     "execution_count": 9,
     "metadata": {},
     "output_type": "execute_result"
    }
   ],
   "execution_count": 9
  },
  {
   "metadata": {},
   "cell_type": "markdown",
   "source": "### 2.4.1对象相似性计算方法",
   "id": "1de5ab03c89743fc"
  },
  {
   "metadata": {
    "ExecuteTime": {
     "end_time": "2024-09-19T12:29:51.055738Z",
     "start_time": "2024-09-19T12:29:48.959078Z"
    }
   },
   "cell_type": "code",
   "source": [
    "# 可能用到的库\n",
    "import numpy as np\n",
    "import matplotlib.pyplot as plt\n",
    "import pandas as pd\n",
    "from matplotlib.font_manager import FontProperties # 字体设置\n",
    "import math\n",
    "from collections import Counter\n",
    "from scipy.stats import spearmanr"
   ],
   "id": "d251303467315be1",
   "outputs": [],
   "execution_count": 34
  },
  {
   "metadata": {},
   "cell_type": "markdown",
   "source": "### 1.标称属性相似性",
   "id": "73fbfcb6ab34a6c8"
  },
  {
   "cell_type": "code",
   "id": "initial_id",
   "metadata": {
    "collapsed": true,
    "ExecuteTime": {
     "end_time": "2024-09-19T11:42:42.115529Z",
     "start_time": "2024-09-19T11:42:42.112533Z"
    }
   },
   "source": [
    "# 简单匹配距离\n",
    "def simple_matching_distance(obj1,obj2):\n",
    "    \"\"\"\n",
    "    \n",
    "    :param obj1: \n",
    "    :param obj2: \n",
    "    :return: float，简单匹配距离\n",
    "    \"\"\"\n",
    "    if len(obj1)==len(obj2):\n",
    "        total_attributes = len(obj1)\n",
    "        matching_attributes = 0\n",
    "        \n",
    "        # 查找对象取值相同的属性数\n",
    "        for i in range(total_attributes):\n",
    "            if(obj1[i]==obj2[i]):\n",
    "                matching_attributes += 1\n",
    "            \n",
    "        return 1-(matching_attributes/total_attributes)\n",
    "    \n",
    "# 示例 分别为书上的i和j\n",
    "obj1 = [\"fruit\", \"red\", \"yes\", \"good\"]\n",
    "obj2 = [\"fruit\", \"yellow\", \"yes\", \"good\"]\n",
    "\n",
    "\n",
    "distance = simple_matching_distance(obj1, obj2)\n",
    "print(f\"标称属性相似性距离: {distance:.2f}\")\n",
    "    "
   ],
   "outputs": [
    {
     "name": "stdout",
     "output_type": "stream",
     "text": [
      "标称属性相似性距离: 0.25\n"
     ]
    }
   ],
   "execution_count": 11
  },
  {
   "metadata": {},
   "cell_type": "markdown",
   "source": [
    "### 2.二元属性相似性\n",
    "本书37页（2-10）展示的公式实际为求解相异性系数。\\\n",
    "相似性系数公式为：\n",
    "$$d(i, j)=\\frac{q+t}{q+r+s+t}$$"
   ],
   "id": "89cc8404de21b928"
  },
  {
   "metadata": {
    "ExecuteTime": {
     "end_time": "2024-09-19T11:42:44.503257Z",
     "start_time": "2024-09-19T11:42:44.496971Z"
    }
   },
   "cell_type": "code",
   "source": [
    "## 相异性（书本示例）：\n",
    "def simple_matching_coefficient(obj1, obj2):\n",
    "    \"\"\"\n",
    "    :param obg1: list, 对象1的二元属性值\n",
    "    :param obj2: list, 对象2的二元属性值\n",
    "    :return: float, 简单匹配系数\n",
    "    \"\"\"\n",
    "    if len(obj1) != len(obj2):\n",
    "        raise ValueError(\"两个对象的属性数量必须相同\")\n",
    "    \n",
    "    a = b = c = d = 0\n",
    "    \n",
    "    for i in range(len(obj1)):\n",
    "        if obj1[i] == 1 and obj2[i] == 1:\n",
    "            a += 1\n",
    "        elif obj1[i] == 1 and obj2[i] == 0:\n",
    "            b += 1\n",
    "        elif obj1[i] == 0 and obj2[i] == 1:\n",
    "            c += 1\n",
    "        elif obj1[i] == 0 and obj2[i] == 0:\n",
    "            d += 1\n",
    "    \n",
    "    smc= (b + c) / (a + b + c + d) \n",
    "    smc = (b + c) / (a + b + c ) # 公式（2-11）\n",
    "    return smc\n",
    "\n",
    "# 示例\n",
    "binary_vector1 = [0, 1, 0, 0, 1]\n",
    "binary_vector2 = [1, 1, 1, 0, 1]\n",
    "\n",
    "smc_value = simple_matching_coefficient(binary_vector1, binary_vector2)\n",
    "print(f\"简单匹配系数: {smc_value:.2f}\")\n"
   ],
   "id": "235b013a4a40d6b8",
   "outputs": [
    {
     "name": "stdout",
     "output_type": "stream",
     "text": [
      "简单匹配系数: 0.50\n"
     ]
    }
   ],
   "execution_count": 12
  },
  {
   "metadata": {},
   "cell_type": "markdown",
   "source": "### 3.数值属性相似性",
   "id": "5dd55b5255480701"
  },
  {
   "metadata": {
    "ExecuteTime": {
     "end_time": "2024-09-19T11:44:15.721220Z",
     "start_time": "2024-09-19T11:44:15.713245Z"
    }
   },
   "cell_type": "code",
   "source": [
    "### 1.欧几里得距离\n",
    "def euclidean_distance(point1, point2):\n",
    "    \"\"\"\n",
    "    :param point1: list, 点1（n维）\n",
    "    :param point2: list, 点2（n维）\n",
    "    :return: float, 欧几里得距离\n",
    "    \"\"\"\n",
    "    if len(point1) != len(point2):\n",
    "        raise ValueError(\"两个点的维度必须相同\")\n",
    "    \n",
    "    # 计算各坐标差的平方和\n",
    "    squared_diff_sum = sum((p1 - p2) ** 2 for p1, p2 in zip(point1, point2))\n",
    "    \n",
    "    return math.sqrt(squared_diff_sum)\n",
    "\n",
    "# 示例\n",
    "point1 = [1, 1, 1, 1, 1]  # 5维点\n",
    "point2 = [2, 2, 2, 2, 2]\n",
    "\n",
    "distance_multi = euclidean_distance(point1, point2)\n",
    "print(point1)\n",
    "print(point2)\n",
    "print(f\"5维空间中的欧几里得距离: {distance_multi:.2f}\")\n",
    "\n",
    "    "
   ],
   "id": "cacf1d2a7d3dcabb",
   "outputs": [
    {
     "name": "stdout",
     "output_type": "stream",
     "text": [
      "[1, 1, 1, 1, 1]\n",
      "[2, 2, 2, 2, 2]\n",
      "5维空间中的欧几里得距离: 2.24\n"
     ]
    }
   ],
   "execution_count": 15
  },
  {
   "metadata": {
    "ExecuteTime": {
     "end_time": "2024-09-19T11:48:41.476015Z",
     "start_time": "2024-09-19T11:48:41.468330Z"
    }
   },
   "cell_type": "code",
   "source": [
    "### 2.曼哈顿距离\n",
    "def manhattan_distance(point1, point2):\n",
    "    \"\"\"\n",
    "    :param point1: list, 点1（n维）\n",
    "    :param point2: list, 点2（n维）\n",
    "    :return: float, 曼哈顿距离\n",
    "    \"\"\"\n",
    "    if len(point1) != len(point2):\n",
    "        raise ValueError(\"两个点纬度必须相等\")\n",
    "    \n",
    "    manhattan_distance=sum(abs(p1-p2) for p1, p2 in zip(point1, point2))\n",
    "    \n",
    "    return manhattan_distance\n",
    "\n",
    "manhattan_distance=manhattan_distance(point1, point2)\n",
    "print(point1)\n",
    "print(point2)\n",
    "print(f\"示例的曼哈顿距离是：: {manhattan_distance:.2f}\")"
   ],
   "id": "49fc1334cd952e39",
   "outputs": [
    {
     "name": "stdout",
     "output_type": "stream",
     "text": [
      "[1, 1, 1, 1, 1]\n",
      "[2, 2, 2, 2, 2]\n",
      "示例的曼哈顿距离是：: 5.00\n"
     ]
    }
   ],
   "execution_count": 18
  },
  {
   "metadata": {
    "ExecuteTime": {
     "end_time": "2024-09-19T11:52:24.808516Z",
     "start_time": "2024-09-19T11:52:24.800641Z"
    }
   },
   "cell_type": "code",
   "source": [
    "### 3.切比雪夫距离\n",
    "def chebyshev_distance(point1, point2):\n",
    "    \"\"\"\n",
    "    :param point1: list, 点1的坐标（n维）\n",
    "    :param point2: list, 点2的坐标（n维）\n",
    "    :return: float, 切比雪夫距离\n",
    "    \"\"\"\n",
    "    if len(point1) != len(point2):\n",
    "        raise ValueError(\"两个点的维度必须相同\")\n",
    "    \n",
    "    differences = [abs(p1 - p2) for p1, p2 in zip(point1, point2)]\n",
    "    \n",
    "    return max(differences)\n",
    "\n",
    "chebyshev_distance=chebyshev_distance(point1, point2)\n",
    "print(point1)\n",
    "print(point2)\n",
    "print(f\"示例的切比雪夫距离: {chebyshev_distance:.2f}\")"
   ],
   "id": "5cf8b824552e1d6c",
   "outputs": [
    {
     "name": "stdout",
     "output_type": "stream",
     "text": [
      "[1, 1, 1, 1, 1]\n",
      "[2, 2, 2, 2, 2]\n",
      "示例的切比雪夫距离: 1.00\n"
     ]
    }
   ],
   "execution_count": 19
  },
  {
   "metadata": {},
   "cell_type": "code",
   "outputs": [],
   "execution_count": null,
   "source": [
    "### 4.闵可夫斯基距离\n",
    "def minkowski_distance(point1, point2):\n",
    "    \"\"\"\n",
    "    根据k值确定，k值确定后，和上面的一样，此处不做展示\n",
    "    :param point1: \n",
    "    :param point2: \n",
    "    :return: \n",
    "    \"\"\"\n"
   ],
   "id": "103c062a494ba6c5"
  },
  {
   "metadata": {
    "ExecuteTime": {
     "end_time": "2024-09-19T11:59:31.800239Z",
     "start_time": "2024-09-19T11:59:31.797204Z"
    }
   },
   "cell_type": "code",
   "source": [
    "### 5.标准化欧几里得距离\n",
    "def standardized_euclidean_distance(point1, point2, variances):\n",
    "    \"\"\"\n",
    "    :param point1: list, 点1（n维）\n",
    "    :param point2: list, 点2（n维）\n",
    "    :param variances: list, 每个维度的方差\n",
    "    :return: float, 标准化欧几里得距离\n",
    "    \"\"\"\n",
    "    if len(point1) != len(point2) or len(point1) != len(variances):\n",
    "        raise ValueError(\"两个点的维度和方差数组的长度必须相同\")\n",
    "    \n",
    "    # 标准差的平方就是方差，这里用方差（variances）好写一点。。。\n",
    "    squared_diff_sum = sum(((p1 - p2) ** 2) / var for p1, p2, var in zip(point1, point2, variances))\n",
    "\n",
    "    return math.sqrt(squared_diff_sum)\n",
    "\n",
    "# 假设已经计算出来了方差：\n",
    "variances = [1, 4, 9, 16, 25]\n",
    "standardized_euclidean_distance=standardized_euclidean_distance(point1, point2, variances)\n",
    "\n",
    "print(point1)\n",
    "print(point2)\n",
    "print(f\"示例的标准化欧几里得距离: {standardized_euclidean_distance:.2f}\")"
   ],
   "id": "72e03ccec8a76663",
   "outputs": [
    {
     "name": "stdout",
     "output_type": "stream",
     "text": [
      "[1, 1, 1, 1, 1]\n",
      "[2, 2, 2, 2, 2]\n",
      "示例的标准化欧几里得距离: 1.21\n"
     ]
    }
   ],
   "execution_count": 23
  },
  {
   "metadata": {},
   "cell_type": "markdown",
   "source": "### 4.序值属性相似性",
   "id": "1aec67047f635bf2"
  },
  {
   "metadata": {
    "ExecuteTime": {
     "end_time": "2024-09-19T12:12:32.820258Z",
     "start_time": "2024-09-19T12:12:32.802594Z"
    }
   },
   "cell_type": "code",
   "source": [
    "def ordinal_similarity(value1, value2, rank_values):\n",
    "    \"\"\"\n",
    "    :param value1: 序值属性1\n",
    "    :param value2: 序值属性2\n",
    "    :param rank_values: list, 序值属性的可能取值顺序\n",
    "    :return: float, 相似性\n",
    "    \"\"\"\n",
    "    # 获取value1和value2的排名\n",
    "    rank1 = rank_values.index(value1) + 1 # 从0开始，所以+1\n",
    "    rank2 = rank_values.index(value2) + 1\n",
    "    n = len(rank_values)\n",
    "    \n",
    "    # 数据标准化：\n",
    "    normalized_1 = (rank1-1)/(n-1)\n",
    "    normalized_2 = (rank2-1)/(n-1)\n",
    "    \n",
    "    # 计算相似性，距离公式上面的任意都可以\n",
    "    # 计算欧几里得距离\n",
    "    euclidean_distance = math.sqrt((normalized_1 - normalized_2) ** 2)\n",
    "    \n",
    "    # 计算相似性（距离越小，相似性越大）\n",
    "    similarity = 1 - euclidean_distance\n",
    "\n",
    "\n",
    "    return similarity\n",
    "\n",
    "# 示例\n",
    "rank_values = ['小学', '初中', '高中', '本科', '研究生']\n",
    "value1 = '本科'\n",
    "value2 = '高中'\n",
    "\n",
    "similarity = ordinal_similarity(value1, value2, rank_values)\n",
    "print(f\"'{value1}' 和 '{value2}' 之间的序值相似性: {similarity:.2f}\")\n"
   ],
   "id": "71b45daeb59106db",
   "outputs": [
    {
     "name": "stdout",
     "output_type": "stream",
     "text": [
      "'本科' 和 '高中' 之间的序值相似性: 0.75\n"
     ]
    }
   ],
   "execution_count": 25
  },
  {
   "metadata": {},
   "cell_type": "markdown",
   "source": "### 5.Jaccard相似性",
   "id": "eb3a4e66f392ca06"
  },
  {
   "metadata": {
    "ExecuteTime": {
     "end_time": "2024-09-19T12:15:35.881061Z",
     "start_time": "2024-09-19T12:15:35.876029Z"
    }
   },
   "cell_type": "code",
   "source": [
    "def jaccard_similarity(set1, set2):\n",
    "    \"\"\"\n",
    "    :param set1: 集合1\n",
    "    :param set2: 集合2\n",
    "    :return: float, Jaccard相似性\n",
    "    \"\"\"\n",
    "    # 计算交集和并集数量\n",
    "    intersection = len(set1.intersection(set2))\n",
    "    union = len(set1.union(set2))\n",
    "\n",
    "    similarity = intersection / union if union != 0 else 0\n",
    "    return similarity\n",
    "\n",
    "# 示例\n",
    "set1 = {3,4,5}\n",
    "set2 = {1,2,3,5,6,7}\n",
    "\n",
    "similarity = jaccard_similarity(set1, set2)\n",
    "print(f\"Set1 和 Set2 之间的Jaccard相似性: {similarity:.4f}\")\n"
   ],
   "id": "ad6dcf904564e818",
   "outputs": [
    {
     "name": "stdout",
     "output_type": "stream",
     "text": [
      "Set1 和 Set2 之间的Jaccard相似性: 0.2857\n"
     ]
    }
   ],
   "execution_count": 28
  },
  {
   "metadata": {},
   "cell_type": "markdown",
   "source": "### 6.余弦相似度",
   "id": "79bc837774830b6e"
  },
  {
   "metadata": {
    "ExecuteTime": {
     "end_time": "2024-09-19T12:20:08.560358Z",
     "start_time": "2024-09-19T12:20:08.552903Z"
    }
   },
   "cell_type": "code",
   "source": [
    "def cosine_similarity(vector1, vector2):\n",
    "    \"\"\"    \n",
    "    :param vector1: list, 向量1\n",
    "    :param vector2: list, 向量2\n",
    "    :return: float, 余弦相似度\n",
    "    \"\"\"\n",
    "    # 计算点积\n",
    "    dot_product = sum(a * b for a, b in zip(vector1, vector2))\n",
    "    \n",
    "    # 向量的模\n",
    "    norm_vector1 = math.sqrt(sum(a ** 2 for a in vector1))\n",
    "    norm_vector2 = math.sqrt(sum(b ** 2 for b in vector2))\n",
    "    \n",
    "    # 余弦相似度\n",
    "    if norm_vector1 == 0 or norm_vector2 == 0:\n",
    "        return 0  \n",
    "    return norm_vector1,norm_vector2,dot_product / (norm_vector1 * norm_vector2)\n",
    "\n",
    "# 示例\n",
    "vector1 = [3,0,4,0,1,0,0,6,0]\n",
    "vector2 = [1,0,3,0,0,2,0,1,0]\n",
    "\n",
    "norm1,norm2,similarity = cosine_similarity(vector1, vector2)\n",
    "print(norm1,norm2)\n",
    "print(f\"Vector1 和 Vector2 之间的余弦相似度: {similarity:.2f}\")\n"
   ],
   "id": "61b1d47d64813127",
   "outputs": [
    {
     "name": "stdout",
     "output_type": "stream",
     "text": [
      "7.874007874011811 3.872983346207417\n",
      "Vector1 和 Vector2 之间的余弦相似度: 0.69\n"
     ]
    }
   ],
   "execution_count": 30
  },
  {
   "metadata": {},
   "cell_type": "markdown",
   "source": "### 2.4.2数据相关性计算方法 ",
   "id": "b53d0bd963ab8e59"
  },
  {
   "metadata": {},
   "cell_type": "markdown",
   "source": [
    "### 1.皮尔逊相关系数\n",
    "$$d(i, j)=\\frac{\\sum\\left(x_{i}-\\bar{x}\\right)\\left(y_{i}-\\bar{y}\\right)}{\\sqrt{\\sum\\left(x_{i}-\\bar{x}\\right)^{2}} \\sqrt{\\sum\\left(y_{i}-\\bar{y}\\right)^{2}}}$$"
   ],
   "id": "613691835028bd19"
  },
  {
   "metadata": {
    "ExecuteTime": {
     "end_time": "2024-09-19T12:24:51.382185Z",
     "start_time": "2024-09-19T12:24:51.376219Z"
    }
   },
   "cell_type": "code",
   "source": [
    "def pearson_correlation(x, y):\n",
    "    \"\"\"\n",
    "    :param x: list, 变量1\n",
    "    :param y: list, 变量2\n",
    "    :return: float, 皮尔逊相关系数\n",
    "    \"\"\"\n",
    "    if len(x) != len(y):\n",
    "        raise ValueError(\"两个变量的长度必须相等\")\n",
    "    \n",
    "    # 计算均值\n",
    "    mean_x = sum(x) / len(x)\n",
    "    mean_y = sum(y) / len(y)\n",
    "    \n",
    "    # 计算分子 (协方差)\n",
    "    numerator = sum((xi - mean_x) * (yi - mean_y) for xi, yi in zip(x, y))\n",
    "    \n",
    "    # 计算分母\n",
    "    denominator_x = sum((xi - mean_x) ** 2 for xi in x)\n",
    "    denominator_y = sum((yi - mean_y) ** 2 for yi in y)\n",
    "    denominator = (denominator_x * denominator_y) ** 0.5\n",
    "    \n",
    "    if denominator == 0:\n",
    "        return 0\n",
    "    \n",
    "    return numerator / denominator\n",
    "\n",
    "# 示例\n",
    "x = [10, 20, 30, 40, 50]\n",
    "y = [12, 24, 36, 48, 60]\n",
    "\n",
    "pearson_r = pearson_correlation(x, y)\n",
    "print(f\"X和Y的皮尔逊相关系数: {pearson_r:.2f}\")\n"
   ],
   "id": "a8e1984196f43d62",
   "outputs": [
    {
     "name": "stdout",
     "output_type": "stream",
     "text": [
      "X和Y的皮尔逊相关系数: 1.00\n"
     ]
    }
   ],
   "execution_count": 32
  },
  {
   "metadata": {},
   "cell_type": "markdown",
   "source": [
    "### 2.斯皮尔曼秩相关系数\n",
    "$$p=1- $ \\frac {6\\sum _ {i=1}^ {l-1} d_i^2}{n(n^ {2}-1)} $$\n"
   ],
   "id": "8841bd131d0ef071"
  },
  {
   "metadata": {
    "ExecuteTime": {
     "end_time": "2024-09-19T12:31:51.953632Z",
     "start_time": "2024-09-19T12:31:51.947487Z"
    }
   },
   "cell_type": "code",
   "source": [
    "### scipy调用\n",
    "\n",
    "# 示例数据\n",
    "x = [10, 20, 30, 40, 50]\n",
    "y = [12, 24, 36, 48, 60]\n",
    "\n",
    "# 计算斯皮尔曼秩相关系数\n",
    "rho, _ = spearmanr(x, y)\n",
    "print(f\"X和Y的斯皮尔曼秩相关系数: {rho:.2f}\")"
   ],
   "id": "977ca3aa25777725",
   "outputs": [
    {
     "name": "stdout",
     "output_type": "stream",
     "text": [
      "X和Y的斯皮尔曼秩相关系数: 1.00\n"
     ]
    }
   ],
   "execution_count": 41
  },
  {
   "metadata": {
    "ExecuteTime": {
     "end_time": "2024-09-19T12:31:52.809972Z",
     "start_time": "2024-09-19T12:31:52.804084Z"
    }
   },
   "cell_type": "code",
   "source": [
    "### math实现\n",
    "from scipy.stats import rankdata\n",
    "\n",
    "def spearman_rank_correlation(x, y):\n",
    "    \"\"\"\n",
    "    :param x: list, 变量1\n",
    "    :param y: list, 变量2\n",
    "    :return: float, 斯皮尔曼秩相关系数\n",
    "    \"\"\"\n",
    "    # 计算秩次\n",
    "    rank_x = rankdata(x)\n",
    "    rank_y = rankdata(y)\n",
    "    \n",
    "    # 计算秩次差\n",
    "    d = rank_x - rank_y\n",
    "    d_squared = np.sum(d ** 2)\n",
    "    \n",
    "    n = len(x)\n",
    "    rho = 1 - (6 * d_squared) / (n * (n ** 2 - 1))\n",
    "    \n",
    "    return rho\n",
    "\n",
    "# 示例数据\n",
    "x = [10, 20, 30, 40, 50]\n",
    "y = [12, 24, 36, 48, 60]\n",
    "\n",
    "rho = spearman_rank_correlation(x, y)\n",
    "print(f\"X和Y的斯皮尔曼秩相关系数: {rho:.2f}\")"
   ],
   "id": "da88a4783e81d1ab",
   "outputs": [
    {
     "name": "stdout",
     "output_type": "stream",
     "text": [
      "X和Y的斯皮尔曼秩相关系数: 1.00\n"
     ]
    }
   ],
   "execution_count": 42
  },
  {
   "metadata": {},
   "cell_type": "markdown",
   "source": "### 3.协方差",
   "id": "739a026af0060d8d"
  },
  {
   "metadata": {
    "ExecuteTime": {
     "end_time": "2024-09-19T12:37:33.585696Z",
     "start_time": "2024-09-19T12:37:33.577683Z"
    }
   },
   "cell_type": "code",
   "source": [
    "def covariance(x, y):\n",
    "    \"\"\"\n",
    "    :param x: list, 变量1\n",
    "    :param y: list, 变量2\n",
    "    :return: float, 协方差\n",
    "    \"\"\"\n",
    "    if len(x) != len(y):\n",
    "        raise ValueError(\"两个变量的长度必须相等\")\n",
    "    \n",
    "    # 计算均值\n",
    "    mean_x = sum(x) / len(x)\n",
    "    mean_y = sum(y) / len(y)\n",
    "    \n",
    "    E_xy=sum((a*b) for a,b in zip(x, y))/len(x)\n",
    "    \n",
    "    # 协方差\n",
    "    cov=E_xy-mean_x*mean_y\n",
    "    \n",
    "    #cov = sum((xi - mean_x) * (yi - mean_y) for xi, yi in zip(x, y)) / len(x)\n",
    "    \n",
    "    return E_xy,cov\n",
    "\n",
    "# 示例\n",
    "x = [6,4,7,10,8]\n",
    "y = [5,6,1,4,12]\n",
    "\n",
    "E_xy,conv=covariance(x, y)\n",
    "print(f\"E_xy: {E_xy:.2f}\")\n",
    "print(f\"X和Y的协方差: {conv:.2f}\")\n"
   ],
   "id": "1a95c7bda5f24c2d",
   "outputs": [
    {
     "name": "stdout",
     "output_type": "stream",
     "text": [
      "E_xy: 39.40\n",
      "X和Y的协方差: 0.20\n"
     ]
    }
   ],
   "execution_count": 51
  },
  {
   "metadata": {},
   "cell_type": "code",
   "outputs": [],
   "execution_count": null,
   "source": "",
   "id": "1ef0882748edb986"
  }
 ],
 "metadata": {
  "kernelspec": {
   "display_name": "Python 3",
   "language": "python",
   "name": "python3"
  },
  "language_info": {
   "codemirror_mode": {
    "name": "ipython",
    "version": 2
   },
   "file_extension": ".py",
   "mimetype": "text/x-python",
   "name": "python",
   "nbconvert_exporter": "python",
   "pygments_lexer": "ipython2",
   "version": "2.7.6"
  }
 },
 "nbformat": 4,
 "nbformat_minor": 5
}
