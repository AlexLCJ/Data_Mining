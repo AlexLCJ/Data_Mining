{
 "cells": [
  {
   "metadata": {},
   "cell_type": "markdown",
   "source": "# CH2补充知识",
   "id": "e8949805ab462c85"
  },
  {
   "metadata": {
    "ExecuteTime": {
     "end_time": "2024-09-26T10:55:42.572272Z",
     "start_time": "2024-09-26T10:55:42.565956Z"
    }
   },
   "cell_type": "code",
   "source": [
    "\"\"\"\n",
    "    Author: <李昌峻>\n",
    "    Date:    2024/9/26\n",
    "    Version: 1.0\n",
    "    Encoding: UTF-8\n",
    "    Description: 数据挖掘课程CH2补充知识\n",
    "    Email: changjunli049@gmail.com\n",
    "\"\"\""
   ],
   "id": "7d3c23f199174862",
   "outputs": [
    {
     "data": {
      "text/plain": [
       "'\\n    Author: <李昌峻>\\n    Date:    2024/9/26\\n    Version: 1.0\\n    Encoding: UTF-8\\n    Description: 数据挖掘课程CH2补充知识\\n    Email: changjunli049@gmail.com\\n'"
      ]
     },
     "execution_count": 325,
     "metadata": {},
     "output_type": "execute_result"
    }
   ],
   "execution_count": 325
  },
  {
   "metadata": {
    "ExecuteTime": {
     "end_time": "2024-09-26T10:59:03.836032Z",
     "start_time": "2024-09-26T10:59:03.830380Z"
    }
   },
   "cell_type": "code",
   "source": [
    "from matplotlib.font_manager import FontProperties\n",
    "import numpy as np\n",
    "import pandas as pd\n",
    "import seaborn as sns\n",
    "import matplotlib.pyplot as plt\n",
    "from numpy import random,mat\n",
    "from scipy import stats\n",
    "from scipy.spatial import distance\n",
    "import warnings\n",
    "warnings.filterwarnings('ignore')\n",
    "# 设置绘图中的中文显示，不设置的话，会出现乱码情况。Windows系统和macOS系统设置方式不同，请注意。\n",
    "font = FontProperties(fname=r\"/System/Library/Fonts/Hiragino Sans GB.ttc\", size=14)    # macos 下的字体\n",
    "# font = FontProperties(fname=r\"c:\\windows\\fonts\\simsun.ttc\", size=14)    #  windows"
   ],
   "id": "136cb9c4e6bbab57",
   "outputs": [],
   "execution_count": 371
  },
  {
   "metadata": {},
   "cell_type": "markdown",
   "source": "## 2.1文件的加载",
   "id": "6faa61a240f44073"
  },
  {
   "metadata": {},
   "cell_type": "markdown",
   "source": [
    "利用python，我们可以处理.csv或Excel文件，.csv文件格式打开类似于excel文档。\\\n",
    "通常，需要处理和分析的数据信息保存在.csv文件中"
   ],
   "id": "e96d736180f664fe"
  },
  {
   "cell_type": "code",
   "id": "initial_id",
   "metadata": {
    "collapsed": true,
    "ExecuteTime": {
     "end_time": "2024-09-26T10:55:44.094886Z",
     "start_time": "2024-09-26T10:55:44.008019Z"
    }
   },
   "source": [
    "# 文件读入：一般用pandas来打开文件：\n",
    "# 这里给出的数据为excel数据，打开原理：\n",
    "data = (pd.read_excel('Cancer.xlsx',header=None)) # 同一目录下可以直接使用文件名（相对路径） header表示是否有列名字\n",
    "data_1= pd.read_excel(r'/Users/AlexLeeMac/Desktop/Data_Mining_course_2024/Chapter2/Cancer.xlsx',header=None) #使用绝对路径\n",
    "\n",
    "# data=pd.read_csv() 为打开.csv文件\n",
    "\n",
    "print(data.head())\n"
   ],
   "outputs": [
    {
     "name": "stdout",
     "output_type": "stream",
     "text": [
      "   0  1  2  3  4   5  6  7  8  9\n",
      "0  5  1  1  1  2   1  3  1  1  2\n",
      "1  5  4  4  5  7  10  3  2  1  2\n",
      "2  3  1  1  1  2   2  3  1  1  2\n",
      "3  6  8  8  1  3   4  3  7  1  2\n",
      "4  4  1  1  3  2   1  3  1  1  2\n"
     ]
    }
   ],
   "execution_count": 327
  },
  {
   "metadata": {
    "ExecuteTime": {
     "end_time": "2024-09-26T10:55:44.464533Z",
     "start_time": "2024-09-26T10:55:44.458944Z"
    }
   },
   "cell_type": "code",
   "source": "print(data_1)",
   "id": "f679a4073289fd36",
   "outputs": [
    {
     "name": "stdout",
     "output_type": "stream",
     "text": [
      "     0   1   2  3  4   5   6   7  8  9\n",
      "0    5   1   1  1  2   1   3   1  1  2\n",
      "1    5   4   4  5  7  10   3   2  1  2\n",
      "2    3   1   1  1  2   2   3   1  1  2\n",
      "3    6   8   8  1  3   4   3   7  1  2\n",
      "4    4   1   1  3  2   1   3   1  1  2\n",
      "..  ..  ..  .. .. ..  ..  ..  .. .. ..\n",
      "678  3   1   1  1  3   2   1   1  1  2\n",
      "679  2   1   1  1  2   1   1   1  1  2\n",
      "680  5  10  10  3  7   3   8  10  2  4\n",
      "681  4   8   6  4  3   4  10   6  1  4\n",
      "682  4   8   8  5  4   5  10   4  1  4\n",
      "\n",
      "[683 rows x 10 columns]\n"
     ]
    }
   ],
   "execution_count": 328
  },
  {
   "metadata": {
    "ExecuteTime": {
     "end_time": "2024-09-26T10:55:44.959022Z",
     "start_time": "2024-09-26T10:55:44.956482Z"
    }
   },
   "cell_type": "code",
   "source": [
    "# 转化为矩阵形式\n",
    "matrix_data = data.values\n",
    "print(matrix_data)"
   ],
   "id": "c43fca4d538c33d6",
   "outputs": [
    {
     "name": "stdout",
     "output_type": "stream",
     "text": [
      "[[ 5  1  1 ...  1  1  2]\n",
      " [ 5  4  4 ...  2  1  2]\n",
      " [ 3  1  1 ...  1  1  2]\n",
      " ...\n",
      " [ 5 10 10 ... 10  2  4]\n",
      " [ 4  8  6 ...  6  1  4]\n",
      " [ 4  8  8 ...  4  1  4]]\n"
     ]
    }
   ],
   "execution_count": 329
  },
  {
   "metadata": {
    "ExecuteTime": {
     "end_time": "2024-09-26T10:55:45.364893Z",
     "start_time": "2024-09-26T10:55:45.362481Z"
    }
   },
   "cell_type": "code",
   "source": "matrix_data #(pandas格式打开)",
   "id": "6d999b9b63d73543",
   "outputs": [
    {
     "data": {
      "text/plain": [
       "array([[ 5,  1,  1, ...,  1,  1,  2],\n",
       "       [ 5,  4,  4, ...,  2,  1,  2],\n",
       "       [ 3,  1,  1, ...,  1,  1,  2],\n",
       "       ...,\n",
       "       [ 5, 10, 10, ..., 10,  2,  4],\n",
       "       [ 4,  8,  6, ...,  6,  1,  4],\n",
       "       [ 4,  8,  8, ...,  4,  1,  4]])"
      ]
     },
     "execution_count": 330,
     "metadata": {},
     "output_type": "execute_result"
    }
   ],
   "execution_count": 330
  },
  {
   "metadata": {},
   "cell_type": "markdown",
   "source": "## 2.2Numpy使用",
   "id": "9db5b8414b2c5eff"
  },
  {
   "metadata": {},
   "cell_type": "markdown",
   "source": [
    "Numpy的API使用官方文档：https://www.numpy.org.cn/reference/ \\\n",
    "本节将会对Numpy中常用方式进行展示\n"
   ],
   "id": "2ab7e6d19493f86c"
  },
  {
   "metadata": {
    "ExecuteTime": {
     "end_time": "2024-09-26T10:55:46.928658Z",
     "start_time": "2024-09-26T10:55:46.906078Z"
    }
   },
   "cell_type": "code",
   "source": [
    "# 求矩阵均值：\n",
    "# 计算整个矩阵的均值\n",
    "mean_all = np.mean(matrix_data)\n",
    "\n",
    "# 计算每一列的均值\n",
    "mean_columns = np.mean(matrix_data, axis=0)\n",
    "\n",
    "# 计算每一行的均值\n",
    "mean_rows = np.mean(matrix_data, axis=1)\n",
    "\n",
    "mean_columns"
   ],
   "id": "d2890607c771b985",
   "outputs": [
    {
     "data": {
      "text/plain": [
       "array([4.44216691, 3.15080527, 3.21522694, 2.83016105, 3.23426061,\n",
       "       3.54465593, 3.44509517, 2.86969253, 1.60322108, 2.69985359])"
      ]
     },
     "execution_count": 331,
     "metadata": {},
     "output_type": "execute_result"
    }
   ],
   "execution_count": 331
  },
  {
   "metadata": {
    "ExecuteTime": {
     "end_time": "2024-09-26T10:55:47.303946Z",
     "start_time": "2024-09-26T10:55:47.298329Z"
    }
   },
   "cell_type": "code",
   "source": "mean_rows",
   "id": "3a8fe68b5dc2aaf",
   "outputs": [
    {
     "data": {
      "text/plain": [
       "array([1.8, 4.3, 1.7, 4.3, 1.9, 7.4, 2.3, 1.6, 1.7, 1.7, 1.3, 1.4, 3.2,\n",
       "       1.6, 6.4, 4. , 1.6, 1.7, 5.5, 1.9, 5.4, 5.8, 1.5, 1.4, 3.7, 1.5,\n",
       "       1.7, 1.4, 1.4, 1.4, 1.5, 5.8, 1.6, 1.6, 1.4, 6.7, 2.3, 5. , 4.3,\n",
       "       4.1, 6.3, 4.2, 6.6, 1.4, 5.1, 1.3, 1.9, 5.3, 4. , 3.3, 4.9, 6.2,\n",
       "       5.5, 4.8, 5.5, 3.8, 3.8, 3.6, 4.3, 1.4, 5.9, 3.8, 1.3, 4.3, 1.7,\n",
       "       4.9, 6.4, 1.5, 1.9, 6.7, 2.4, 6.1, 4. , 1.8, 1.6, 2. , 1.8, 1.5,\n",
       "       2. , 1.7, 1.9, 2.1, 6.8, 6.4, 4.2, 5.7, 1.7, 1.6, 1.4, 1.5, 1.7,\n",
       "       1.3, 1.5, 1.4, 1.4, 1.8, 6.7, 6.7, 5.3, 3.2, 1.8, 3.6, 7.9, 4. ,\n",
       "       6. , 6. , 1.5, 5.3, 2.3, 4.4, 5.5, 6.5, 2.1, 1.6, 2.7, 6.2, 1.6,\n",
       "       1.8, 1.6, 1.9, 6.7, 4.5, 6.1, 1.3, 5.7, 1.6, 4.8, 2. , 1.9, 1.5,\n",
       "       6.7, 1.6, 1.6, 2.1, 1.6, 1.4, 1.7, 1.4, 1.3, 4.6, 1.6, 1.4, 3.8,\n",
       "       1.5, 3.3, 7.3, 1.3, 4.6, 6.6, 1.7, 1.2, 4.3, 1.5, 1.5, 7.4, 6.1,\n",
       "       1.8, 1.6, 2. , 1.9, 6.4, 6.3, 1.6, 1.2, 1.4, 1.4, 1.3, 8.5, 4.8,\n",
       "       6.4, 1.5, 5.9, 1.7, 3.9, 1.3, 1.2, 1.9, 6.4, 5. , 1.4, 5.5, 7.5,\n",
       "       6.4, 1.7, 7.4, 7.3, 1.7, 1.4, 1.6, 1.7, 5.1, 2.1, 1.2, 1.5, 6.5,\n",
       "       6.4, 1.4, 1.8, 1.4, 7.6, 5.7, 1.3, 1.3, 1.7, 8.1, 6.5, 1.4, 8.2,\n",
       "       7.4, 6.1, 1.3, 1.4, 6.4, 2.1, 1.5, 6.7, 2.3, 4.8, 6.1, 1.3, 6.2,\n",
       "       5.8, 1.3, 7.7, 5. , 6.3, 3.5, 4.9, 2.5, 7.2, 6. , 7.8, 4.6, 2.4,\n",
       "       1.7, 1.5, 2. , 1.4, 2. , 7.1, 3.9, 2.2, 1.4, 5.5, 4.3, 6.3, 5.9,\n",
       "       4.7, 1.4, 1.5, 1.6, 4.3, 5.9, 7.6, 6.4, 5.9, 5.8, 2.2, 5.5, 3.9,\n",
       "       6.2, 1.4, 5.1, 1.8, 3.9, 3.2, 1.7, 1.5, 1.3, 1.4, 5.3, 1.6, 1.6,\n",
       "       4.8, 4.6, 5.5, 8. , 8.8, 1.6, 4. , 6.3, 1.2, 1.4, 4.6, 5.7, 3.8,\n",
       "       2.3, 5.2, 5.7, 1.4, 8.7, 1.4, 4.8, 6.1, 1.4, 1.4, 5.9, 2.2, 1.5,\n",
       "       1.2, 5.2, 1.2, 1.2, 4.4, 6.5, 1.7, 4. , 5.4, 1.6, 4.7, 1.4, 1.9,\n",
       "       3.9, 1.3, 5.1, 5.2, 4.5, 1.9, 2.1, 4.7, 5. , 1.2, 5. , 1.4, 1.2,\n",
       "       4.7, 4.7, 1.4, 1.3, 1.2, 6.6, 1.2, 2.2, 1.3, 3.8, 4.3, 1.8, 1.5,\n",
       "       3.8, 6.7, 1.3, 1.8, 3.1, 7.7, 5.9, 4.7, 8.8, 5.6, 2.1, 2.5, 1.5,\n",
       "       1.4, 8.2, 7.1, 1.4, 1.4, 2. , 1.4, 1.7, 1.8, 1.6, 1.2, 1.3, 1.2,\n",
       "       2. , 2.5, 1.2, 6.2, 2. , 1.3, 1.3, 2.2, 4.7, 2.4, 1.5, 2. , 1.4,\n",
       "       6.3, 1.5, 1.1, 1.6, 1.5, 1.6, 1.5, 1.7, 1.5, 6.7, 1.4, 2.1, 1.7,\n",
       "       1.6, 1.3, 1.8, 1.3, 2. , 1.6, 1.3, 6.6, 1.9, 5.1, 3.1, 6.2, 1.3,\n",
       "       2.4, 1.8, 2.2, 7.2, 2.3, 1.9, 1.4, 8.4, 2.3, 5.1, 1.3, 1.4, 1.6,\n",
       "       2.3, 1.8, 1.8, 4.9, 5.3, 5.3, 1.5, 1.9, 1.6, 5.7, 2.4, 1.6, 1.3,\n",
       "       2.3, 1.3, 1.2, 1.6, 1.1, 6.8, 1.7, 1.6, 1.6, 6. , 1.6, 3.1, 6.3,\n",
       "       6.5, 1.7, 1.8, 1.8, 1.8, 1.9, 1.6, 1.5, 6.8, 5.9, 5.6, 1.5, 1.4,\n",
       "       1.4, 1.9, 1.6, 1.5, 1.6, 1.4, 1.6, 1.5, 1.7, 6. , 1.5, 2.2, 8.8,\n",
       "       6.7, 1.7, 1.5, 1.4, 7.4, 4.1, 2.9, 1.2, 5.2, 1.5, 6.8, 3.3, 1.4,\n",
       "       1.1, 1.6, 1.6, 1.6, 1.9, 1.6, 1.7, 1.7, 1.2, 1.6, 7.3, 1.5, 1.6,\n",
       "       1.3, 1.2, 1.7, 1.6, 1.4, 6.6, 6.2, 1.1, 1.2, 1.6, 5.1, 1.3, 1.6,\n",
       "       4.6, 5.5, 1.5, 1.5, 1.5, 1.7, 2. , 1.5, 5.2, 1.8, 1.3, 1.5, 1.4,\n",
       "       1.7, 1.8, 1.9, 1.6, 1.8, 1.8, 1.4, 1.8, 1.6, 1.7, 1.7, 7.2, 1.2,\n",
       "       1.3, 5.5, 1.5, 1.4, 2.1, 2.5, 1.4, 2.7, 1.9, 1.8, 1.4, 1.7, 1.8,\n",
       "       1.8, 1.4, 1.5, 1.8, 7.2, 1.7, 1.8, 4.6, 6.7, 5.9, 6.6, 1.5, 1.3,\n",
       "       5.4, 1.9, 1.7, 1.3, 1.3, 1.4, 1.8, 6. , 6.1, 1.4, 2.2, 1.2, 7.9,\n",
       "       1.8, 5.3, 1.6, 4.8, 5.2, 4.5, 1.7, 4.8, 1.7, 1.7, 2. , 1.5, 1.9,\n",
       "       1.5, 1.2, 1.6, 5.1, 4.8, 6.3, 1.6, 1.2, 7.1, 1.6, 5.4, 6. , 8.8,\n",
       "       1.6, 1.3, 1.8, 1.5, 1.6, 1.7, 1.5, 3. , 2.2, 1.2, 1.7, 2. , 5.5,\n",
       "       1.7, 1.3, 1.5, 2. , 1.7, 1.2, 5.1, 1.4, 1.7, 7. , 2.3, 1.5, 1.8,\n",
       "       1.7, 1.5, 1.5, 1.2, 1.3, 1.5, 1.4, 1.4, 8.1, 1.5, 1.9, 1.6, 1.8,\n",
       "       1.6, 1.6, 1.5, 1.7, 3.6, 5.9, 1.2, 1.3, 1.7, 1.5, 1.5, 1.7, 1.2,\n",
       "       2. , 1.6, 4.8, 6.5, 5.7, 1.8, 1.5, 2. , 1.3, 1.8, 1.4, 1.6, 1.2,\n",
       "       1.3, 8.6, 6.7, 1.9, 1.2, 1.2, 1.2, 1.2, 1.7, 1.5, 1.9, 1.4, 5.2,\n",
       "       1.4, 1.6, 1.6, 1.3, 6.2, 5. , 5.3])"
      ]
     },
     "execution_count": 332,
     "metadata": {},
     "output_type": "execute_result"
    }
   ],
   "execution_count": 332
  },
  {
   "metadata": {
    "ExecuteTime": {
     "end_time": "2024-09-26T10:55:47.670901Z",
     "start_time": "2024-09-26T10:55:47.668061Z"
    }
   },
   "cell_type": "code",
   "source": "mean_all",
   "id": "3cfd8078636203b3",
   "outputs": [
    {
     "data": {
      "text/plain": [
       "3.1035139092240116"
      ]
     },
     "execution_count": 333,
     "metadata": {},
     "output_type": "execute_result"
    }
   ],
   "execution_count": 333
  },
  {
   "metadata": {},
   "cell_type": "markdown",
   "source": "示例Cancer数据太大了，为了便于展示，我们重新定义一个新的简单矩阵。",
   "id": "bc1739667ba98e88"
  },
  {
   "metadata": {},
   "cell_type": "markdown",
   "source": "### 2.2.1.矩阵的创建",
   "id": "b297b7fa9afbae5a"
  },
  {
   "metadata": {},
   "cell_type": "markdown",
   "source": [
    "numpy中的matrix和ndarray都可以表示形如矩阵。其中两者所能表示的数据维数不同，matrix 只能表示二维数据，而 ndarray 可以表示 N 维数据。\\\n",
    "一般，使用 numpy 的 array来表示。"
   ],
   "id": "4bb9d5357c54fd5d"
  },
  {
   "metadata": {
    "ExecuteTime": {
     "end_time": "2024-09-26T10:55:49.092160Z",
     "start_time": "2024-09-26T10:55:49.088524Z"
    }
   },
   "cell_type": "code",
   "source": [
    "# 创建一维数组\n",
    "data_1=np.array([1,2,3,4])\n",
    "print(data_1)"
   ],
   "id": "61169e32ec207c36",
   "outputs": [
    {
     "name": "stdout",
     "output_type": "stream",
     "text": [
      "[1 2 3 4]\n"
     ]
    }
   ],
   "execution_count": 334
  },
  {
   "metadata": {
    "ExecuteTime": {
     "end_time": "2024-09-26T10:55:49.465951Z",
     "start_time": "2024-09-26T10:55:49.462287Z"
    }
   },
   "cell_type": "code",
   "source": [
    "# 创建二维数组\n",
    "data_2=np.array([[1,2,3,4],[4,5,6,7]])\n",
    "print(data_2)\n",
    "print(\"查看矩阵的形状：\", data_2.shape)"
   ],
   "id": "be011ee7d3fa6baf",
   "outputs": [
    {
     "name": "stdout",
     "output_type": "stream",
     "text": [
      "[[1 2 3 4]\n",
      " [4 5 6 7]]\n",
      "查看矩阵的形状： (2, 4)\n"
     ]
    }
   ],
   "execution_count": 335
  },
  {
   "metadata": {
    "ExecuteTime": {
     "end_time": "2024-09-26T10:55:49.836912Z",
     "start_time": "2024-09-26T10:55:49.834443Z"
    }
   },
   "cell_type": "code",
   "source": [
    "# 创建全0数组\n",
    "data_all0=np.zeros(shape=(2,4)) # 2行4列\n",
    "print(data_all0)"
   ],
   "id": "49410a4359561bf",
   "outputs": [
    {
     "name": "stdout",
     "output_type": "stream",
     "text": [
      "[[0. 0. 0. 0.]\n",
      " [0. 0. 0. 0.]]\n"
     ]
    }
   ],
   "execution_count": 336
  },
  {
   "metadata": {
    "ExecuteTime": {
     "end_time": "2024-09-26T10:55:50.231208Z",
     "start_time": "2024-09-26T10:55:50.229324Z"
    }
   },
   "cell_type": "code",
   "source": [
    "# 创建全1数组\n",
    "data_all1=np.ones(shape=(3,3)) # 三行三列\n",
    "print(data_all1)"
   ],
   "id": "abd272f52a353ff9",
   "outputs": [
    {
     "name": "stdout",
     "output_type": "stream",
     "text": [
      "[[1. 1. 1.]\n",
      " [1. 1. 1.]\n",
      " [1. 1. 1.]]\n"
     ]
    }
   ],
   "execution_count": 337
  },
  {
   "metadata": {
    "ExecuteTime": {
     "end_time": "2024-09-26T10:55:50.567205Z",
     "start_time": "2024-09-26T10:55:50.563348Z"
    }
   },
   "cell_type": "code",
   "source": [
    "# 创建全空数组，不是真的空，而是趋于无限接近0的数\n",
    "data_empty=np.empty(shape=(2,3))\n",
    "print(data_empty)"
   ],
   "id": "ceaf34b31a92af48",
   "outputs": [
    {
     "name": "stdout",
     "output_type": "stream",
     "text": [
      "[[2.e-323 2.e-323 2.e-323]\n",
      " [2.e-323 2.e-323 2.e-323]]\n"
     ]
    }
   ],
   "execution_count": 338
  },
  {
   "metadata": {
    "ExecuteTime": {
     "end_time": "2024-09-26T10:55:50.896769Z",
     "start_time": "2024-09-26T10:55:50.893445Z"
    }
   },
   "cell_type": "code",
   "source": [
    "# 创建有序序列的数组\n",
    "data = np.arange(2,10,2) # start：2，stop：10，step：2 满足左闭右开\n",
    "print(data)"
   ],
   "id": "440c002b6ce0e83",
   "outputs": [
    {
     "name": "stdout",
     "output_type": "stream",
     "text": [
      "[2 4 6 8]\n"
     ]
    }
   ],
   "execution_count": 339
  },
  {
   "metadata": {
    "ExecuteTime": {
     "end_time": "2024-09-26T10:55:51.234076Z",
     "start_time": "2024-09-26T10:55:51.229213Z"
    }
   },
   "cell_type": "code",
   "source": [
    "# 随机数数组\n",
    "data_random = np.random.rand(3,4) #(0-1区间)\n",
    "print(data_random)"
   ],
   "id": "abc6f2f53633e4c6",
   "outputs": [
    {
     "name": "stdout",
     "output_type": "stream",
     "text": [
      "[[0.06544279 0.92819307 0.41217245 0.41192852]\n",
      " [0.46409161 0.3318983  0.56540107 0.09516544]\n",
      " [0.54686876 0.9554187  0.86232206 0.29103884]]\n"
     ]
    }
   ],
   "execution_count": 340
  },
  {
   "metadata": {
    "ExecuteTime": {
     "end_time": "2024-09-26T10:55:51.557477Z",
     "start_time": "2024-09-26T10:55:51.553337Z"
    }
   },
   "cell_type": "code",
   "source": [
    "# 其他区间（自定义）\n",
    "data=np.random.randint(2,5,size=(3,5))  # 4行5列，start=2，stop=5 左闭右开\n",
    "print(data)"
   ],
   "id": "737fceb1b9749a3f",
   "outputs": [
    {
     "name": "stdout",
     "output_type": "stream",
     "text": [
      "[[3 3 4 4 2]\n",
      " [3 2 2 2 2]\n",
      " [2 2 3 2 2]]\n"
     ]
    }
   ],
   "execution_count": 341
  },
  {
   "metadata": {
    "ExecuteTime": {
     "end_time": "2024-09-26T10:55:51.935226Z",
     "start_time": "2024-09-26T10:55:51.933156Z"
    }
   },
   "cell_type": "code",
   "source": [
    "#矩阵的转置\n",
    "data.T\n",
    "print(data.T)"
   ],
   "id": "bbd00fa20c664403",
   "outputs": [
    {
     "name": "stdout",
     "output_type": "stream",
     "text": [
      "[[3 3 2]\n",
      " [3 2 2]\n",
      " [4 2 3]\n",
      " [4 2 2]\n",
      " [2 2 2]]\n"
     ]
    }
   ],
   "execution_count": 342
  },
  {
   "metadata": {
    "ExecuteTime": {
     "end_time": "2024-09-26T10:55:52.306775Z",
     "start_time": "2024-09-26T10:55:52.298155Z"
    }
   },
   "cell_type": "code",
   "source": [
    "# 矩阵的逆\n",
    "data_mat=mat(data)\n",
    "print(data_mat.I)"
   ],
   "id": "299df4c601b2638c",
   "outputs": [
    {
     "name": "stdout",
     "output_type": "stream",
     "text": [
      "[[-0.05940594  0.56435644 -0.37623762]\n",
      " [ 0.04950495  0.02970297 -0.01980198]\n",
      " [-0.05940594 -0.43564356  0.62376238]\n",
      " [ 0.53465347 -0.07920792 -0.61386139]\n",
      " [-0.43564356  0.13861386  0.57425743]]\n"
     ]
    }
   ],
   "execution_count": 343
  },
  {
   "metadata": {},
   "cell_type": "markdown",
   "source": "### 2.2.1计算",
   "id": "32cbca450852961b"
  },
  {
   "metadata": {
    "ExecuteTime": {
     "end_time": "2024-09-26T10:55:53.161447Z",
     "start_time": "2024-09-26T10:55:53.159239Z"
    }
   },
   "cell_type": "code",
   "source": [
    "# 数组的加法\n",
    "array1 = np.array([1, 2, 3])\n",
    "array2 = np.array([4, 5, 6])\n",
    "result = array1 + array2\n",
    "print(result)"
   ],
   "id": "a36b60ac154a081a",
   "outputs": [
    {
     "name": "stdout",
     "output_type": "stream",
     "text": [
      "[5 7 9]\n"
     ]
    }
   ],
   "execution_count": 344
  },
  {
   "metadata": {
    "ExecuteTime": {
     "end_time": "2024-09-26T10:55:53.549355Z",
     "start_time": "2024-09-26T10:55:53.547163Z"
    }
   },
   "cell_type": "code",
   "source": [
    "# 乘法 (对应元素相乘)\n",
    "result = array1 * array2\n",
    "print(result)"
   ],
   "id": "a3fb1aec1508e69a",
   "outputs": [
    {
     "name": "stdout",
     "output_type": "stream",
     "text": [
      "[ 4 10 18]\n"
     ]
    }
   ],
   "execution_count": 345
  },
  {
   "metadata": {
    "ExecuteTime": {
     "end_time": "2024-09-26T10:55:53.945959Z",
     "start_time": "2024-09-26T10:55:53.944109Z"
    }
   },
   "cell_type": "code",
   "source": [
    "# 乘法\n",
    "result = array1 @ array2\n",
    "print(result)"
   ],
   "id": "4c361a1fed80ced0",
   "outputs": [
    {
     "name": "stdout",
     "output_type": "stream",
     "text": [
      "32\n"
     ]
    }
   ],
   "execution_count": 346
  },
  {
   "metadata": {},
   "cell_type": "markdown",
   "source": "## 2.2.2 书本中公式的调包实现",
   "id": "3088eae3fa4a9c7f"
  },
  {
   "metadata": {},
   "cell_type": "markdown",
   "source": "### 算数平均值",
   "id": "e58ba10f16e90f4"
  },
  {
   "metadata": {
    "ExecuteTime": {
     "end_time": "2024-09-26T10:55:55.370736Z",
     "start_time": "2024-09-26T10:55:55.367073Z"
    }
   },
   "cell_type": "code",
   "source": [
    "# 矩阵的均值计算\n",
    "\n",
    "matrix = np.array([[1, 2, 3], \n",
    "                   [4, 5, 6], \n",
    "                   [7, 8, 9]])\n",
    "\n",
    "mean_all = np.mean(matrix)\n",
    "\n",
    "print(\"整个矩阵的算术平均值:\", mean_all)"
   ],
   "id": "b4e211b4bca0b90e",
   "outputs": [
    {
     "name": "stdout",
     "output_type": "stream",
     "text": [
      "整个矩阵的算术平均值: 5.0\n"
     ]
    }
   ],
   "execution_count": 347
  },
  {
   "metadata": {
    "ExecuteTime": {
     "end_time": "2024-09-26T10:55:56.111148Z",
     "start_time": "2024-09-26T10:55:56.107695Z"
    }
   },
   "cell_type": "code",
   "source": [
    "mean_columns = np.mean(matrix, axis=0)   # axis=0沿列计算均值\n",
    "mean_rows = np.mean(matrix, axis=1)         # axis=1沿行计算均值\n",
    "print(mean_rows)\n",
    "print(mean_columns)"
   ],
   "id": "817d99856c02b13e",
   "outputs": [
    {
     "name": "stdout",
     "output_type": "stream",
     "text": [
      "[2. 5. 8.]\n",
      "[4. 5. 6.]\n"
     ]
    }
   ],
   "execution_count": 348
  },
  {
   "metadata": {},
   "cell_type": "markdown",
   "source": "### 加权平均值",
   "id": "32dc86efcdb33364"
  },
  {
   "metadata": {
    "ExecuteTime": {
     "end_time": "2024-09-26T10:55:57.125059Z",
     "start_time": "2024-09-26T10:55:57.122890Z"
    }
   },
   "cell_type": "code",
   "source": [
    "# 数据数组\n",
    "matrix = np.array([[1, 2, 3], \n",
    "                   [4, 5, 6], \n",
    "                   [7, 8, 9]])\n",
    "\n",
    "# 权重数组\n",
    "weights = np.random.rand(3,3) # 随机生成3*3的权重\n",
    "# 计算加权均值\n",
    "weighted_mean = np.average(matrix, weights=weights)\n",
    "\n",
    "print(\"加权均值:\", weighted_mean)\n"
   ],
   "id": "8885e498db619a6f",
   "outputs": [
    {
     "name": "stdout",
     "output_type": "stream",
     "text": [
      "加权均值: 5.241734760193179\n"
     ]
    }
   ],
   "execution_count": 349
  },
  {
   "metadata": {},
   "cell_type": "markdown",
   "source": "### 中位数",
   "id": "a656bd1e54788ca1"
  },
  {
   "metadata": {
    "ExecuteTime": {
     "end_time": "2024-09-26T10:55:58.396906Z",
     "start_time": "2024-09-26T10:55:58.392676Z"
    }
   },
   "cell_type": "code",
   "source": [
    "matrix = np.array([[1, 2, 3], \n",
    "                   [4, 5, 6], \n",
    "                   [7, 8, 9]])\n",
    "\n",
    "median_all = np.median(matrix)\n",
    "median_columns = np.median(matrix, axis=0)  # 按列计算（保留列）\n",
    "median_rows = np.median(matrix, axis=1)  # 按行计算 （保留行）\n",
    "print(median_all)\n",
    "print(median_columns)\n",
    "print(median_rows)"
   ],
   "id": "2be7317da228a669",
   "outputs": [
    {
     "name": "stdout",
     "output_type": "stream",
     "text": [
      "5.0\n",
      "[4. 5. 6.]\n",
      "[2. 5. 8.]\n"
     ]
    }
   ],
   "execution_count": 350
  },
  {
   "metadata": {},
   "cell_type": "markdown",
   "source": "### 众数",
   "id": "88c5bbbae049e1e2"
  },
  {
   "metadata": {
    "ExecuteTime": {
     "end_time": "2024-09-26T10:55:59.763652Z",
     "start_time": "2024-09-26T10:55:59.758466Z"
    }
   },
   "cell_type": "code",
   "source": [
    "matrix = np.array([[1, 2, 3], \n",
    "                   [4, 5, 6], \n",
    "                   [7, 8, 8]])\n",
    "\n",
    "# 将矩阵展平成一维数组\n",
    "flattened_matrix = matrix.flatten()\n",
    "\n",
    "# 计算众数\n",
    "mode_result = stats.mode(flattened_matrix)\n",
    "# mode = stats.mode(data) 当data是一维的时候直接使用\n",
    "\n",
    "mode_result "
   ],
   "id": "39fd7d0477006b3a",
   "outputs": [
    {
     "data": {
      "text/plain": [
       "ModeResult(mode=8, count=2)"
      ]
     },
     "execution_count": 351,
     "metadata": {},
     "output_type": "execute_result"
    }
   ],
   "execution_count": 351
  },
  {
   "metadata": {},
   "cell_type": "markdown",
   "source": [
    "## 我们实战处理：\n",
    "## 对大型数据进行处理，再次使用Cancer数据集"
   ],
   "id": "d0ca023a7b4560ea"
  },
  {
   "metadata": {
    "ExecuteTime": {
     "end_time": "2024-09-26T10:56:00.777682Z",
     "start_time": "2024-09-26T10:56:00.729593Z"
    }
   },
   "cell_type": "code",
   "source": [
    "data_df=pd.read_excel('Cancer.xlsx',header=None)\n",
    "data_df"
   ],
   "id": "eda837b577d93e0f",
   "outputs": [
    {
     "data": {
      "text/plain": [
       "     0   1   2  3  4   5   6   7  8  9\n",
       "0    5   1   1  1  2   1   3   1  1  2\n",
       "1    5   4   4  5  7  10   3   2  1  2\n",
       "2    3   1   1  1  2   2   3   1  1  2\n",
       "3    6   8   8  1  3   4   3   7  1  2\n",
       "4    4   1   1  3  2   1   3   1  1  2\n",
       "..  ..  ..  .. .. ..  ..  ..  .. .. ..\n",
       "678  3   1   1  1  3   2   1   1  1  2\n",
       "679  2   1   1  1  2   1   1   1  1  2\n",
       "680  5  10  10  3  7   3   8  10  2  4\n",
       "681  4   8   6  4  3   4  10   6  1  4\n",
       "682  4   8   8  5  4   5  10   4  1  4\n",
       "\n",
       "[683 rows x 10 columns]"
      ],
      "text/html": [
       "<div>\n",
       "<style scoped>\n",
       "    .dataframe tbody tr th:only-of-type {\n",
       "        vertical-align: middle;\n",
       "    }\n",
       "\n",
       "    .dataframe tbody tr th {\n",
       "        vertical-align: top;\n",
       "    }\n",
       "\n",
       "    .dataframe thead th {\n",
       "        text-align: right;\n",
       "    }\n",
       "</style>\n",
       "<table border=\"1\" class=\"dataframe\">\n",
       "  <thead>\n",
       "    <tr style=\"text-align: right;\">\n",
       "      <th></th>\n",
       "      <th>0</th>\n",
       "      <th>1</th>\n",
       "      <th>2</th>\n",
       "      <th>3</th>\n",
       "      <th>4</th>\n",
       "      <th>5</th>\n",
       "      <th>6</th>\n",
       "      <th>7</th>\n",
       "      <th>8</th>\n",
       "      <th>9</th>\n",
       "    </tr>\n",
       "  </thead>\n",
       "  <tbody>\n",
       "    <tr>\n",
       "      <th>0</th>\n",
       "      <td>5</td>\n",
       "      <td>1</td>\n",
       "      <td>1</td>\n",
       "      <td>1</td>\n",
       "      <td>2</td>\n",
       "      <td>1</td>\n",
       "      <td>3</td>\n",
       "      <td>1</td>\n",
       "      <td>1</td>\n",
       "      <td>2</td>\n",
       "    </tr>\n",
       "    <tr>\n",
       "      <th>1</th>\n",
       "      <td>5</td>\n",
       "      <td>4</td>\n",
       "      <td>4</td>\n",
       "      <td>5</td>\n",
       "      <td>7</td>\n",
       "      <td>10</td>\n",
       "      <td>3</td>\n",
       "      <td>2</td>\n",
       "      <td>1</td>\n",
       "      <td>2</td>\n",
       "    </tr>\n",
       "    <tr>\n",
       "      <th>2</th>\n",
       "      <td>3</td>\n",
       "      <td>1</td>\n",
       "      <td>1</td>\n",
       "      <td>1</td>\n",
       "      <td>2</td>\n",
       "      <td>2</td>\n",
       "      <td>3</td>\n",
       "      <td>1</td>\n",
       "      <td>1</td>\n",
       "      <td>2</td>\n",
       "    </tr>\n",
       "    <tr>\n",
       "      <th>3</th>\n",
       "      <td>6</td>\n",
       "      <td>8</td>\n",
       "      <td>8</td>\n",
       "      <td>1</td>\n",
       "      <td>3</td>\n",
       "      <td>4</td>\n",
       "      <td>3</td>\n",
       "      <td>7</td>\n",
       "      <td>1</td>\n",
       "      <td>2</td>\n",
       "    </tr>\n",
       "    <tr>\n",
       "      <th>4</th>\n",
       "      <td>4</td>\n",
       "      <td>1</td>\n",
       "      <td>1</td>\n",
       "      <td>3</td>\n",
       "      <td>2</td>\n",
       "      <td>1</td>\n",
       "      <td>3</td>\n",
       "      <td>1</td>\n",
       "      <td>1</td>\n",
       "      <td>2</td>\n",
       "    </tr>\n",
       "    <tr>\n",
       "      <th>...</th>\n",
       "      <td>...</td>\n",
       "      <td>...</td>\n",
       "      <td>...</td>\n",
       "      <td>...</td>\n",
       "      <td>...</td>\n",
       "      <td>...</td>\n",
       "      <td>...</td>\n",
       "      <td>...</td>\n",
       "      <td>...</td>\n",
       "      <td>...</td>\n",
       "    </tr>\n",
       "    <tr>\n",
       "      <th>678</th>\n",
       "      <td>3</td>\n",
       "      <td>1</td>\n",
       "      <td>1</td>\n",
       "      <td>1</td>\n",
       "      <td>3</td>\n",
       "      <td>2</td>\n",
       "      <td>1</td>\n",
       "      <td>1</td>\n",
       "      <td>1</td>\n",
       "      <td>2</td>\n",
       "    </tr>\n",
       "    <tr>\n",
       "      <th>679</th>\n",
       "      <td>2</td>\n",
       "      <td>1</td>\n",
       "      <td>1</td>\n",
       "      <td>1</td>\n",
       "      <td>2</td>\n",
       "      <td>1</td>\n",
       "      <td>1</td>\n",
       "      <td>1</td>\n",
       "      <td>1</td>\n",
       "      <td>2</td>\n",
       "    </tr>\n",
       "    <tr>\n",
       "      <th>680</th>\n",
       "      <td>5</td>\n",
       "      <td>10</td>\n",
       "      <td>10</td>\n",
       "      <td>3</td>\n",
       "      <td>7</td>\n",
       "      <td>3</td>\n",
       "      <td>8</td>\n",
       "      <td>10</td>\n",
       "      <td>2</td>\n",
       "      <td>4</td>\n",
       "    </tr>\n",
       "    <tr>\n",
       "      <th>681</th>\n",
       "      <td>4</td>\n",
       "      <td>8</td>\n",
       "      <td>6</td>\n",
       "      <td>4</td>\n",
       "      <td>3</td>\n",
       "      <td>4</td>\n",
       "      <td>10</td>\n",
       "      <td>6</td>\n",
       "      <td>1</td>\n",
       "      <td>4</td>\n",
       "    </tr>\n",
       "    <tr>\n",
       "      <th>682</th>\n",
       "      <td>4</td>\n",
       "      <td>8</td>\n",
       "      <td>8</td>\n",
       "      <td>5</td>\n",
       "      <td>4</td>\n",
       "      <td>5</td>\n",
       "      <td>10</td>\n",
       "      <td>4</td>\n",
       "      <td>1</td>\n",
       "      <td>4</td>\n",
       "    </tr>\n",
       "  </tbody>\n",
       "</table>\n",
       "<p>683 rows × 10 columns</p>\n",
       "</div>"
      ]
     },
     "execution_count": 352,
     "metadata": {},
     "output_type": "execute_result"
    }
   ],
   "execution_count": 352
  },
  {
   "metadata": {
    "ExecuteTime": {
     "end_time": "2024-09-26T10:56:01.792526Z",
     "start_time": "2024-09-26T10:56:01.772020Z"
    }
   },
   "cell_type": "code",
   "source": [
    "# 使用describe()可以直接展示相关信息\n",
    "data_df.describe()"
   ],
   "id": "6fdc0229dcc91da1",
   "outputs": [
    {
     "data": {
      "text/plain": [
       "                0           1           2           3           4           5  \\\n",
       "count  683.000000  683.000000  683.000000  683.000000  683.000000  683.000000   \n",
       "mean     4.442167    3.150805    3.215227    2.830161    3.234261    3.544656   \n",
       "std      2.820761    3.065145    2.988581    2.864562    2.223085    3.643857   \n",
       "min      1.000000    1.000000    1.000000    1.000000    1.000000    1.000000   \n",
       "25%      2.000000    1.000000    1.000000    1.000000    2.000000    1.000000   \n",
       "50%      4.000000    1.000000    1.000000    1.000000    2.000000    1.000000   \n",
       "75%      6.000000    5.000000    5.000000    4.000000    4.000000    6.000000   \n",
       "max     10.000000   10.000000   10.000000   10.000000   10.000000   10.000000   \n",
       "\n",
       "                6           7           8           9  \n",
       "count  683.000000  683.000000  683.000000  683.000000  \n",
       "mean     3.445095    2.869693    1.603221    2.699854  \n",
       "std      2.449697    3.052666    1.732674    0.954592  \n",
       "min      1.000000    1.000000    1.000000    2.000000  \n",
       "25%      2.000000    1.000000    1.000000    2.000000  \n",
       "50%      3.000000    1.000000    1.000000    2.000000  \n",
       "75%      5.000000    4.000000    1.000000    4.000000  \n",
       "max     10.000000   10.000000   10.000000    4.000000  "
      ],
      "text/html": [
       "<div>\n",
       "<style scoped>\n",
       "    .dataframe tbody tr th:only-of-type {\n",
       "        vertical-align: middle;\n",
       "    }\n",
       "\n",
       "    .dataframe tbody tr th {\n",
       "        vertical-align: top;\n",
       "    }\n",
       "\n",
       "    .dataframe thead th {\n",
       "        text-align: right;\n",
       "    }\n",
       "</style>\n",
       "<table border=\"1\" class=\"dataframe\">\n",
       "  <thead>\n",
       "    <tr style=\"text-align: right;\">\n",
       "      <th></th>\n",
       "      <th>0</th>\n",
       "      <th>1</th>\n",
       "      <th>2</th>\n",
       "      <th>3</th>\n",
       "      <th>4</th>\n",
       "      <th>5</th>\n",
       "      <th>6</th>\n",
       "      <th>7</th>\n",
       "      <th>8</th>\n",
       "      <th>9</th>\n",
       "    </tr>\n",
       "  </thead>\n",
       "  <tbody>\n",
       "    <tr>\n",
       "      <th>count</th>\n",
       "      <td>683.000000</td>\n",
       "      <td>683.000000</td>\n",
       "      <td>683.000000</td>\n",
       "      <td>683.000000</td>\n",
       "      <td>683.000000</td>\n",
       "      <td>683.000000</td>\n",
       "      <td>683.000000</td>\n",
       "      <td>683.000000</td>\n",
       "      <td>683.000000</td>\n",
       "      <td>683.000000</td>\n",
       "    </tr>\n",
       "    <tr>\n",
       "      <th>mean</th>\n",
       "      <td>4.442167</td>\n",
       "      <td>3.150805</td>\n",
       "      <td>3.215227</td>\n",
       "      <td>2.830161</td>\n",
       "      <td>3.234261</td>\n",
       "      <td>3.544656</td>\n",
       "      <td>3.445095</td>\n",
       "      <td>2.869693</td>\n",
       "      <td>1.603221</td>\n",
       "      <td>2.699854</td>\n",
       "    </tr>\n",
       "    <tr>\n",
       "      <th>std</th>\n",
       "      <td>2.820761</td>\n",
       "      <td>3.065145</td>\n",
       "      <td>2.988581</td>\n",
       "      <td>2.864562</td>\n",
       "      <td>2.223085</td>\n",
       "      <td>3.643857</td>\n",
       "      <td>2.449697</td>\n",
       "      <td>3.052666</td>\n",
       "      <td>1.732674</td>\n",
       "      <td>0.954592</td>\n",
       "    </tr>\n",
       "    <tr>\n",
       "      <th>min</th>\n",
       "      <td>1.000000</td>\n",
       "      <td>1.000000</td>\n",
       "      <td>1.000000</td>\n",
       "      <td>1.000000</td>\n",
       "      <td>1.000000</td>\n",
       "      <td>1.000000</td>\n",
       "      <td>1.000000</td>\n",
       "      <td>1.000000</td>\n",
       "      <td>1.000000</td>\n",
       "      <td>2.000000</td>\n",
       "    </tr>\n",
       "    <tr>\n",
       "      <th>25%</th>\n",
       "      <td>2.000000</td>\n",
       "      <td>1.000000</td>\n",
       "      <td>1.000000</td>\n",
       "      <td>1.000000</td>\n",
       "      <td>2.000000</td>\n",
       "      <td>1.000000</td>\n",
       "      <td>2.000000</td>\n",
       "      <td>1.000000</td>\n",
       "      <td>1.000000</td>\n",
       "      <td>2.000000</td>\n",
       "    </tr>\n",
       "    <tr>\n",
       "      <th>50%</th>\n",
       "      <td>4.000000</td>\n",
       "      <td>1.000000</td>\n",
       "      <td>1.000000</td>\n",
       "      <td>1.000000</td>\n",
       "      <td>2.000000</td>\n",
       "      <td>1.000000</td>\n",
       "      <td>3.000000</td>\n",
       "      <td>1.000000</td>\n",
       "      <td>1.000000</td>\n",
       "      <td>2.000000</td>\n",
       "    </tr>\n",
       "    <tr>\n",
       "      <th>75%</th>\n",
       "      <td>6.000000</td>\n",
       "      <td>5.000000</td>\n",
       "      <td>5.000000</td>\n",
       "      <td>4.000000</td>\n",
       "      <td>4.000000</td>\n",
       "      <td>6.000000</td>\n",
       "      <td>5.000000</td>\n",
       "      <td>4.000000</td>\n",
       "      <td>1.000000</td>\n",
       "      <td>4.000000</td>\n",
       "    </tr>\n",
       "    <tr>\n",
       "      <th>max</th>\n",
       "      <td>10.000000</td>\n",
       "      <td>10.000000</td>\n",
       "      <td>10.000000</td>\n",
       "      <td>10.000000</td>\n",
       "      <td>10.000000</td>\n",
       "      <td>10.000000</td>\n",
       "      <td>10.000000</td>\n",
       "      <td>10.000000</td>\n",
       "      <td>10.000000</td>\n",
       "      <td>4.000000</td>\n",
       "    </tr>\n",
       "  </tbody>\n",
       "</table>\n",
       "</div>"
      ]
     },
     "execution_count": 353,
     "metadata": {},
     "output_type": "execute_result"
    }
   ],
   "execution_count": 353
  },
  {
   "metadata": {},
   "cell_type": "markdown",
   "source": "### 数据分布形态",
   "id": "569d7343fb75f988"
  },
  {
   "metadata": {
    "ExecuteTime": {
     "end_time": "2024-09-26T11:16:38.246055Z",
     "start_time": "2024-09-26T11:16:38.082757Z"
    }
   },
   "cell_type": "code",
   "source": [
    "# 我们来看看第一列\n",
    "first_column = data_df[0]\n",
    "second_column = data_df[1]\n",
    "\n",
    "# 计算中位数和均值\n",
    "first_column.sort_values(ascending=True)\n",
    "median_value = np.median(first_column)\n",
    "mean_value = np.mean(first_column)\n",
    "\n",
    "# 绘制密度函数\n",
    "sns.kdeplot(first_column, fill=True)\n",
    "\n",
    "# 在图中标注中位数和均值\n",
    "plt.axvline(median_value, color='red', linestyle='--', label=f'median: {median_value:.2f}')\n",
    "plt.axvline(mean_value, color='blue', linestyle='-', label=f'average: {mean_value:.2f}')\n",
    "\n",
    "# 设置标题和标签\n",
    "plt.title('第一列的分布形态示意图',fontproperties=font)\n",
    "plt.xlabel('值',fontproperties=font)\n",
    "plt.ylabel('密度',fontproperties=font)\n",
    "\n",
    "# 显示图例\n",
    "plt.legend()\n",
    "\n",
    "# 显示图表\n",
    "plt.show()"
   ],
   "id": "1ea42672e8991cca",
   "outputs": [
    {
     "data": {
      "text/plain": [
       "<Figure size 640x480 with 1 Axes>"
      ],
      "image/png": "[encoded data removed]"
     },
     "metadata": {},
     "output_type": "display_data"
    }
   ],
   "execution_count": 393
  },
  {
   "metadata": {
    "ExecuteTime": {
     "end_time": "2024-09-26T11:16:29.540552Z",
     "start_time": "2024-09-26T11:16:29.339003Z"
    }
   },
   "cell_type": "code",
   "source": [
    "# 第二列\n",
    "# 计算中位数和均值\n",
    "second_column.sort_values(ascending=True)\n",
    "median_value = np.median(second_column)\n",
    "mean_value = np.mean(second_column)\n",
    "\n",
    "# 绘制密度函数\n",
    "sns.kdeplot(second_column, fill=True)\n",
    "\n",
    "# 在图中标注中位数和均值\n",
    "plt.axvline(median_value, color='red', linestyle='--', label=f'median: {median_value:.2f}')\n",
    "plt.axvline(mean_value, color='blue', linestyle='-', label=f'average: {mean_value:.2f}')\n",
    "\n",
    "# 设置标题和标签\n",
    "plt.title('第二列的分布形态示意图',fontproperties=font)\n",
    "plt.xlabel('值',fontproperties=font)\n",
    "plt.ylabel('密度',fontproperties=font)\n",
    "\n",
    "# 显示图例\n",
    "plt.legend()\n",
    "\n",
    "# 显示图表\n",
    "plt.show()"
   ],
   "id": "8f71dcc67ba915ae",
   "outputs": [
    {
     "data": {
      "text/plain": [
       "<Figure size 640x480 with 1 Axes>"
      ],
      "image/png": "[encoded data removed]"
     },
     "metadata": {},
     "output_type": "display_data"
    }
   ],
   "execution_count": 392
  },
  {
   "metadata": {
    "ExecuteTime": {
     "end_time": "2024-09-26T10:56:07.599828Z",
     "start_time": "2024-09-26T10:56:07.594109Z"
    }
   },
   "cell_type": "code",
   "source": "first_column.describe()",
   "id": "d3b66df41f3c655c",
   "outputs": [
    {
     "data": {
      "text/plain": [
       "count    683.000000\n",
       "mean       4.442167\n",
       "std        2.820761\n",
       "min        1.000000\n",
       "25%        2.000000\n",
       "50%        4.000000\n",
       "75%        6.000000\n",
       "max       10.000000\n",
       "Name: 0, dtype: float64"
      ]
     },
     "execution_count": 355,
     "metadata": {},
     "output_type": "execute_result"
    }
   ],
   "execution_count": 355
  },
  {
   "metadata": {},
   "cell_type": "markdown",
   "source": "### 中位数",
   "id": "8c40dde296e658ef"
  },
  {
   "metadata": {
    "ExecuteTime": {
     "end_time": "2024-09-26T10:56:09.447184Z",
     "start_time": "2024-09-26T10:56:09.431278Z"
    }
   },
   "cell_type": "code",
   "source": [
    "median=np.median(first_column)\n",
    "median"
   ],
   "id": "2ae3b5bc6b908823",
   "outputs": [
    {
     "data": {
      "text/plain": [
       "4.0"
      ]
     },
     "execution_count": 356,
     "metadata": {},
     "output_type": "execute_result"
    }
   ],
   "execution_count": 356
  },
  {
   "metadata": {},
   "cell_type": "markdown",
   "source": "### 样本方差",
   "id": "db4a3fe1cb6a0602"
  },
  {
   "metadata": {
    "ExecuteTime": {
     "end_time": "2024-09-26T10:56:11.900105Z",
     "start_time": "2024-09-26T10:56:11.897420Z"
    }
   },
   "cell_type": "code",
   "source": [
    "# 计算样本方差\n",
    "sample_variance = np.var(first_column, ddof=1) # ddof=1表示样本方差\n",
    "sample_variance1=np.var(first_column, ddof=0) # ddof=0表示总体方差\n",
    "print(sample_variance)\n",
    "print(sample_variance1)"
   ],
   "id": "4503f8b35f6579a3",
   "outputs": [
    {
     "name": "stdout",
     "output_type": "stream",
     "text": [
      "7.956694417847794\n",
      "7.945044792052995\n"
     ]
    }
   ],
   "execution_count": 357
  },
  {
   "metadata": {},
   "cell_type": "markdown",
   "source": "### 样本标准差",
   "id": "17e6d24d1581a147"
  },
  {
   "metadata": {
    "ExecuteTime": {
     "end_time": "2024-09-26T10:56:12.995959Z",
     "start_time": "2024-09-26T10:56:12.993916Z"
    }
   },
   "cell_type": "code",
   "source": [
    "sample_std = np.std(first_column, ddof=1) #1表示样本标准差\n",
    "sample_std1=np.std(first_column, ddof=0) # 0表示总体标准差\n",
    "print(sample_std)\n",
    "print(sample_std1)"
   ],
   "id": "a7d365f76d021050",
   "outputs": [
    {
     "name": "stdout",
     "output_type": "stream",
     "text": [
      "2.8207613188371314\n",
      "2.8186955834309235\n"
     ]
    }
   ],
   "execution_count": 358
  },
  {
   "metadata": {},
   "cell_type": "markdown",
   "source": "### 极差",
   "id": "9ced27d5b8f31824"
  },
  {
   "metadata": {
    "ExecuteTime": {
     "end_time": "2024-09-26T10:56:13.815045Z",
     "start_time": "2024-09-26T10:56:13.812731Z"
    }
   },
   "cell_type": "code",
   "source": [
    "range_value=np.max(first_column)-np.min(first_column)\n",
    "print(range_value)"
   ],
   "id": "885605a83c6cbfad",
   "outputs": [
    {
     "name": "stdout",
     "output_type": "stream",
     "text": [
      "9\n"
     ]
    }
   ],
   "execution_count": 359
  },
  {
   "metadata": {},
   "cell_type": "markdown",
   "source": "### 分位数",
   "id": "7de93d176ab455e4"
  },
  {
   "metadata": {
    "ExecuteTime": {
     "end_time": "2024-09-26T10:56:14.568782Z",
     "start_time": "2024-09-26T10:56:14.562728Z"
    }
   },
   "cell_type": "code",
   "source": [
    "data=first_column.sort_values(ascending=True)\n",
    "# 计算第一四分位数 (Q1), 第二四分位数 (Q2), 第三四分位数 (Q3)\n",
    " # print(data)\n",
    "Q1 = np.percentile(data, 25)\n",
    "Q2 = np.percentile(data, 50)  # 或者 np.median(data)\n",
    "Q3 = np.percentile(data, 75)\n",
    "\n",
    "# 计算四分位间距 IQR\n",
    "IQR = Q3 - Q1\n",
    "\n",
    "print(f\"第一四分位数 (Q1): {Q1}\")\n",
    "print(f\"第二四分位数 (Q2) - 中位数: {Q2}\")\n",
    "print(f\"第三四分位数 (Q3): {Q3}\")\n",
    "print(f\"四分位间距 (IQR): {IQR}\")"
   ],
   "id": "482b5e81691391ac",
   "outputs": [
    {
     "name": "stdout",
     "output_type": "stream",
     "text": [
      "第一四分位数 (Q1): 2.0\n",
      "第二四分位数 (Q2) - 中位数: 4.0\n",
      "第三四分位数 (Q3): 6.0\n",
      "四分位间距 (IQR): 4.0\n"
     ]
    }
   ],
   "execution_count": 360
  },
  {
   "metadata": {},
   "cell_type": "markdown",
   "source": "### 最大最小观察值",
   "id": "aa25e1d87f94a720"
  },
  {
   "metadata": {
    "ExecuteTime": {
     "end_time": "2024-09-26T10:56:15.458980Z",
     "start_time": "2024-09-26T10:56:15.456050Z"
    }
   },
   "cell_type": "code",
   "source": [
    "min_obs = Q1 - 1.5*IQR\n",
    "max_obs = Q2 + 1.5*IQR\n",
    "print(min_obs,max_obs)"
   ],
   "id": "62c4c01a37940372",
   "outputs": [
    {
     "name": "stdout",
     "output_type": "stream",
     "text": [
      "-4.0 10.0\n"
     ]
    }
   ],
   "execution_count": 361
  },
  {
   "metadata": {
    "ExecuteTime": {
     "end_time": "2024-09-26T10:56:15.874795Z",
     "start_time": "2024-09-26T10:56:15.778022Z"
    }
   },
   "cell_type": "code",
   "source": [
    "# 绘制盒图\n",
    "plt.figure(figsize=(8, 5))\n",
    "\n",
    "plt.boxplot(data, vert=False, patch_artist=True, boxprops=dict(facecolor='lightblue'))\n",
    "\n",
    "# 标注五数\n",
    "plt.text(min_obs, 1.05, f'Min = {min_obs}', horizontalalignment='center', color='blue')\n",
    "plt.text(Q1, 1.05, f'Q1 = {Q1}', horizontalalignment='center', color='blue')\n",
    "plt.text(median_value, 1.05, f'Median = {median_value}', horizontalalignment='center', color='green') # 设置偏移量，防止图例重合\n",
    "plt.text(Q3, 1.05, f'Q3 = {Q3}', horizontalalignment='center', color='blue')\n",
    "plt.text(max_obs, 1.05, f'Max = {max_obs}', horizontalalignment='center', color='blue')\n",
    "\n",
    "# 设置图表标题和标签\n",
    "plt.title('data数据的五数概括的盒图',fontproperties=font)\n",
    "plt.xlabel('数值',fontproperties=font)\n",
    "\n",
    "# 显示图表\n",
    "plt.show()"
   ],
   "id": "4b7fabad98e80f8d",
   "outputs": [
    {
     "data": {
      "text/plain": [
       "<Figure size 800x500 with 1 Axes>"
      ],
      "image/png": "[encoded data removed]"
     },
     "metadata": {},
     "output_type": "display_data"
    }
   ],
   "execution_count": 362
  },
  {
   "metadata": {
    "ExecuteTime": {
     "end_time": "2024-09-26T10:56:16.088083Z",
     "start_time": "2024-09-26T10:56:16.085419Z"
    }
   },
   "cell_type": "code",
   "source": [
    "# ...出了点小问题。。。。。。。\n",
    "# data_df = pd.DataFrame(data, columns=['Values'])\n",
    "# \n",
    "# # 绘制盒图\n",
    "# plt.figure(figsize=(8, 6))\n",
    "# sns.boxplot(x=data_df['Values'])\n",
    "# \n",
    "# # 添加五数概括的标注\n",
    "# plt.text(0.1, min_obs, f'Min: {min_obs}', horizontalalignment='center', color='blue')\n",
    "# plt.text(0.1, Q1, f'Q1: {Q1:.2f}', horizontalalignment='center', color='green')\n",
    "# plt.text(0.1, median, f'Median: {median}', horizontalalignment='center', color='orange')\n",
    "# plt.text(0.1, Q3, f'Q3: {Q3:.2f}', horizontalalignment='center', color='purple')\n",
    "# plt.text(0.1, max_obs, f'Max: {max_obs}', horizontalalignment='center', color='red')\n",
    "# \n",
    "# # 添加标题和标签\n",
    "# plt.title('五数盒图', fontsize=16)\n",
    "# plt.xlabel('值', fontsize=14)\n",
    "# \n",
    "# # 显示图表\n",
    "# plt.show()"
   ],
   "id": "43c6412eeadf49f4",
   "outputs": [],
   "execution_count": 363
  },
  {
   "metadata": {},
   "cell_type": "markdown",
   "source": "## 3.相似度计算",
   "id": "ddeb40c68b6e1545"
  },
  {
   "metadata": {},
   "cell_type": "markdown",
   "source": "### 3.1.1 欧氏距离",
   "id": "30a6d9f63224e5f6"
  },
  {
   "metadata": {
    "ExecuteTime": {
     "end_time": "2024-09-26T10:58:38.887031Z",
     "start_time": "2024-09-26T10:58:38.879694Z"
    }
   },
   "cell_type": "code",
   "source": [
    "print(first_column)\n",
    "print(second_column)\n",
    "point1=first_column # 假设第一个点是这683维的坐标组成（第一列）\n",
    "point2=second_column # 第二列"
   ],
   "id": "152799a51d571623",
   "outputs": [
    {
     "name": "stdout",
     "output_type": "stream",
     "text": [
      "0      5\n",
      "1      5\n",
      "2      3\n",
      "3      6\n",
      "4      4\n",
      "      ..\n",
      "678    3\n",
      "679    2\n",
      "680    5\n",
      "681    4\n",
      "682    4\n",
      "Name: 0, Length: 683, dtype: int64\n",
      "0       1\n",
      "1       4\n",
      "2       1\n",
      "3       8\n",
      "4       1\n",
      "       ..\n",
      "678     1\n",
      "679     1\n",
      "680    10\n",
      "681     8\n",
      "682     8\n",
      "Name: 1, Length: 683, dtype: int64\n"
     ]
    }
   ],
   "execution_count": 369
  },
  {
   "metadata": {
    "ExecuteTime": {
     "end_time": "2024-09-26T10:58:39.543099Z",
     "start_time": "2024-09-26T10:58:39.540156Z"
    }
   },
   "cell_type": "code",
   "source": [
    "# 计算欧氏距离 方法1\n",
    "euclidean_distance = np.linalg.norm(point1 - point2)\n",
    "euclidean_distance "
   ],
   "id": "5c79a5779751958d",
   "outputs": [
    {
     "data": {
      "text/plain": [
       "73.45747068882783"
      ]
     },
     "execution_count": 370,
     "metadata": {},
     "output_type": "execute_result"
    }
   ],
   "execution_count": 370
  },
  {
   "metadata": {
    "ExecuteTime": {
     "end_time": "2024-09-26T10:59:19.568474Z",
     "start_time": "2024-09-26T10:59:19.561773Z"
    }
   },
   "cell_type": "code",
   "source": [
    "# 计算欧氏距离 方法2\n",
    "euclidean_distance = distance.euclidean(point1, point2)\n",
    "euclidean_distance"
   ],
   "id": "916a90812abddca6",
   "outputs": [
    {
     "data": {
      "text/plain": [
       "73.45747068882783"
      ]
     },
     "execution_count": 373,
     "metadata": {},
     "output_type": "execute_result"
    }
   ],
   "execution_count": 373
  },
  {
   "metadata": {},
   "cell_type": "markdown",
   "source": "### 3.1.2曼哈顿距离",
   "id": "157181989b755764"
  },
  {
   "metadata": {
    "ExecuteTime": {
     "end_time": "2024-09-26T11:00:59.297498Z",
     "start_time": "2024-09-26T11:00:59.274088Z"
    }
   },
   "cell_type": "code",
   "source": [
    "# 计算曼哈顿距离 方法1\n",
    "manhattan_distance = np.sum(np.abs(point1 - point2))\n",
    "manhattan_distance"
   ],
   "id": "9603972d895cf113",
   "outputs": [
    {
     "data": {
      "text/plain": [
       "1464"
      ]
     },
     "execution_count": 374,
     "metadata": {},
     "output_type": "execute_result"
    }
   ],
   "execution_count": 374
  },
  {
   "metadata": {
    "ExecuteTime": {
     "end_time": "2024-09-26T11:01:51.283702Z",
     "start_time": "2024-09-26T11:01:51.272381Z"
    }
   },
   "cell_type": "code",
   "source": [
    "# 计算曼哈顿距离 方法2\n",
    "manhattan_distance = distance.cityblock(point1, point2)\n",
    "manhattan_distance"
   ],
   "id": "ec86ca3d902bdb84",
   "outputs": [
    {
     "data": {
      "text/plain": [
       "1464"
      ]
     },
     "execution_count": 375,
     "metadata": {},
     "output_type": "execute_result"
    }
   ],
   "execution_count": 375
  },
  {
   "metadata": {},
   "cell_type": "markdown",
   "source": "### 3.1.3切比雪夫距离",
   "id": "183eb085a88e8e88"
  },
  {
   "metadata": {
    "ExecuteTime": {
     "end_time": "2024-09-26T11:03:47.362075Z",
     "start_time": "2024-09-26T11:03:47.355487Z"
    }
   },
   "cell_type": "code",
   "source": [
    "# 计算切比雪夫距离\n",
    "chebyshev_distance = distance.chebyshev(point1, point2)\n",
    "chebyshev_distance"
   ],
   "id": "bb6360c024897f03",
   "outputs": [
    {
     "data": {
      "text/plain": [
       "9"
      ]
     },
     "execution_count": 376,
     "metadata": {},
     "output_type": "execute_result"
    }
   ],
   "execution_count": 376
  },
  {
   "metadata": {},
   "cell_type": "markdown",
   "source": "### 3.1.4余弦距离",
   "id": "c6dccba86e49cdad"
  },
  {
   "metadata": {
    "ExecuteTime": {
     "end_time": "2024-09-26T11:05:28.098138Z",
     "start_time": "2024-09-26T11:05:28.093589Z"
    }
   },
   "cell_type": "code",
   "source": [
    "# 计算余弦距离\n",
    "cosine_dist = distance.cosine(point1, point2)\n",
    "cosine_dist"
   ],
   "id": "12ec4c684ae804d0",
   "outputs": [
    {
     "data": {
      "text/plain": [
       "0.15462407733260852"
      ]
     },
     "execution_count": 378,
     "metadata": {},
     "output_type": "execute_result"
    }
   ],
   "execution_count": 378
  },
  {
   "metadata": {},
   "cell_type": "markdown",
   "source": "## 4.数据相关性计算",
   "id": "a3ea5143357448c9"
  },
  {
   "metadata": {
    "ExecuteTime": {
     "end_time": "2024-09-26T11:13:05.105786Z",
     "start_time": "2024-09-26T11:13:05.098790Z"
    }
   },
   "cell_type": "code",
   "source": [
    "# 计算协方差矩阵\n",
    "cov_matrix = np.cov(point1, point2)\n",
    "cov_matrix\n",
    "# 获取协方差值\n",
    "# cov_value = cov_matrix[0, 1] 根据位置自己选择数值\n",
    "# cov_value"
   ],
   "id": "4920df118af2e4d6",
   "outputs": [
    {
     "data": {
      "text/plain": [
       "array([[7.95669442, 5.55492201],\n",
       "       [5.55492201, 9.39511299]])"
      ]
     },
     "execution_count": 386,
     "metadata": {},
     "output_type": "execute_result"
    }
   ],
   "execution_count": 386
  },
  {
   "metadata": {
    "ExecuteTime": {
     "end_time": "2024-09-26T11:12:56.558186Z",
     "start_time": "2024-09-26T11:12:56.540930Z"
    }
   },
   "cell_type": "code",
   "source": [
    "# 计算相关系数矩阵\n",
    "corr_matrix = np.corrcoef(point1, point2)\n",
    "corr_matrix\n",
    "# 获取相关系数\n",
    "#  corr_value = corr_matrix[0, 1]"
   ],
   "id": "2f7cca52ede984e4",
   "outputs": [
    {
     "data": {
      "text/plain": [
       "array([[1.        , 0.64248149],\n",
       "       [0.64248149, 1.        ]])"
      ]
     },
     "execution_count": 385,
     "metadata": {},
     "output_type": "execute_result"
    }
   ],
   "execution_count": 385
  },
  {
   "metadata": {},
   "cell_type": "code",
   "outputs": [],
   "execution_count": null,
   "source": "",
   "id": "b98608ea496835ac"
  }
 ],
 "metadata": {
  "kernelspec": {
   "display_name": "Python 3",
   "language": "python",
   "name": "python3"
  },
  "language_info": {
   "codemirror_mode": {
    "name": "ipython",
    "version": 2
   },
   "file_extension": ".py",
   "mimetype": "text/x-python",
   "name": "python",
   "nbconvert_exporter": "python",
   "pygments_lexer": "ipython2",
   "version": "2.7.6"
  }
 },
 "nbformat": 4,
 "nbformat_minor": 5
}
